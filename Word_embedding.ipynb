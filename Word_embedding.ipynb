{
  "nbformat": 4,
  "nbformat_minor": 0,
  "metadata": {
    "colab": {
      "name": "Word embedding using Keras embedding layer .ipynb",
      "provenance": [],
      "authorship_tag": "ABX9TyNm43vVbgtGlt/VuaKdA5TN",
      "include_colab_link": true
    },
    "kernelspec": {
      "name": "python3",
      "display_name": "Python 3"
    },
    "language_info": {
      "name": "python"
    }
  },
  "cells": [
    {
      "cell_type": "markdown",
      "metadata": {
        "id": "view-in-github",
        "colab_type": "text"
      },
      "source": [
        "<a href=\"https://colab.research.google.com/github/premswaroopmusti/Word-embedding-using-keras-embedding-layer/blob/main/Word_embedding_using_Keras_embedding_layer_.ipynb\" target=\"_parent\"><img src=\"https://colab.research.google.com/assets/colab-badge.svg\" alt=\"Open In Colab\"/></a>"
      ]
    },
    {
      "cell_type": "markdown",
      "source": [
        "# **Word Embedding Technique using Embedding Layer in Keras**"
      ],
      "metadata": {
        "id": "Qamqn7IIFOWK"
      }
    },
    {
      "cell_type": "code",
      "execution_count": 101,
      "metadata": {
        "id": "MuyIffWfZUIj"
      },
      "outputs": [],
      "source": [
        "import numpy as np\n",
        "from tensorflow.keras.preprocessing.text import one_hot\n",
        "from tensorflow.keras.preprocessing.sequence import pad_sequences\n",
        "from tensorflow.keras.models import Sequential\n",
        "from tensorflow.keras.layers import Dense\n",
        "from tensorflow.keras.layers import Flatten\n",
        "from tensorflow.keras.layers import Embedding"
      ]
    },
    {
      "cell_type": "markdown",
      "source": [
        "## **Food review Classification**"
      ],
      "metadata": {
        "id": "Zbjgqg3Hhox5"
      }
    },
    {
      "cell_type": "code",
      "source": [
        "# dataset\n",
        "# 10 reviews\n",
        "\n",
        "reviews = ['nice food',\n",
        "           'amazing food',\n",
        "           'too good',\n",
        "           'just loved it',\n",
        "           'will go again',\n",
        "           'horrible food',\n",
        "           'never go there',\n",
        "           'poor service',\n",
        "           'poor quality',\n",
        "           'needs improvement']\n",
        "\n",
        "# 10 corresponding labels  \n",
        "# gave label 1 for positive review and label 0 for negative reviews\n",
        "# first five labels are positive and rest five labels are negative\n",
        "\n",
        "sentiment = np.array([1,1,1,1,1,0,0,0,0,0])           "
      ],
      "metadata": {
        "id": "Hka_0UUEg5cC"
      },
      "execution_count": 102,
      "outputs": []
    },
    {
      "cell_type": "code",
      "source": [
        "# converting into One-hot vector\n",
        "# one hot encoding will take the review and then use specific vocabulary size\n",
        "# lets say we gave vocabulary size as 30, we will get unique numbers in the output in the range of 1 to 30\n",
        "\n",
        "# it gave number 23 to the word amazing and number 1 to restaurant, but internally the keras layer will convert the unique numbers into 0011 and so on.\n",
        "\n",
        "one_hot('amazing restaurant',30)"
      ],
      "metadata": {
        "colab": {
          "base_uri": "https://localhost:8080/"
        },
        "id": "wOMQcw_KiB6e",
        "outputId": "21e04dc7-b81d-4cca-909a-a5916d932167"
      },
      "execution_count": 103,
      "outputs": [
        {
          "output_type": "execute_result",
          "data": {
            "text/plain": [
              "[23, 1]"
            ]
          },
          "metadata": {},
          "execution_count": 103
        }
      ]
    },
    {
      "cell_type": "code",
      "source": [
        "one_hot('amzaing restaurant',100)"
      ],
      "metadata": {
        "colab": {
          "base_uri": "https://localhost:8080/"
        },
        "id": "s8jdj5vLj5QJ",
        "outputId": "bea23ae8-27a1-4783-b9eb-a5f027f62839"
      },
      "execution_count": 104,
      "outputs": [
        {
          "output_type": "execute_result",
          "data": {
            "text/plain": [
              "[26, 27]"
            ]
          },
          "metadata": {},
          "execution_count": 104
        }
      ]
    },
    {
      "cell_type": "markdown",
      "source": [
        "**One Hot Representation**"
      ],
      "metadata": {
        "id": "4wdNZU7hFsJV"
      }
    },
    {
      "cell_type": "code",
      "source": [
        "# now lets encode all the reviews, let's convert all reviews into one-hot encoded or encoded vector\n",
        "\n",
        "vocab_size = 300\n",
        "encoded_reviews = [one_hot(i, vocab_size) for i in reviews]\n",
        "encoded_reviews\n",
        "\n",
        "# so we have created encoded vector for each review"
      ],
      "metadata": {
        "colab": {
          "base_uri": "https://localhost:8080/"
        },
        "id": "VV3GXktwj89T",
        "outputId": "38594354-7d50-4ad4-9431-644aca2d7b87"
      },
      "execution_count": 105,
      "outputs": [
        {
          "output_type": "execute_result",
          "data": {
            "text/plain": [
              "[[182, 24],\n",
              " [203, 24],\n",
              " [279, 269],\n",
              " [225, 12, 206],\n",
              " [183, 169, 107],\n",
              " [90, 24],\n",
              " [6, 169, 72],\n",
              " [241, 291],\n",
              " [241, 241],\n",
              " [197, 25]]"
            ]
          },
          "metadata": {},
          "execution_count": 105
        }
      ]
    },
    {
      "cell_type": "code",
      "source": [
        "# in the above vectors some are containing two numericals and some are having three\n",
        "# so we need to do padding\n",
        "\n",
        "# we need a maximum sentence size\n",
        "max_length = 3\n",
        "padded_reviews = pad_sequences(encoded_reviews,maxlen = max_length, padding = 'post')            # padding = post means pad towards the end\n",
        "padded_reviews\n",
        "\n",
        "# so now every vector size is 3"
      ],
      "metadata": {
        "colab": {
          "base_uri": "https://localhost:8080/"
        },
        "id": "zVPxVcTBlXLY",
        "outputId": "8fae9acb-5192-4f3f-9744-4910d8d0b5c3"
      },
      "execution_count": 106,
      "outputs": [
        {
          "output_type": "execute_result",
          "data": {
            "text/plain": [
              "array([[182,  24,   0],\n",
              "       [203,  24,   0],\n",
              "       [279, 269,   0],\n",
              "       [225,  12, 206],\n",
              "       [183, 169, 107],\n",
              "       [ 90,  24,   0],\n",
              "       [  6, 169,  72],\n",
              "       [241, 291,   0],\n",
              "       [241, 241,   0],\n",
              "       [197,  25,   0]], dtype=int32)"
            ]
          },
          "metadata": {},
          "execution_count": 106
        }
      ]
    },
    {
      "cell_type": "code",
      "source": [
        "embedded_vector_size = 5\n",
        "\n",
        "# let's create a model\n",
        "\n",
        "model = Sequential()\n",
        "model.add(Embedding(vocab_size,embedded_vector_size,input_length = max_length,name = 'embedding'))\n",
        "model.add(Flatten())\n",
        "model.add(Dense(1, activation = 'sigmoid'))                # it will be a dense layer with one neuron and sigmoid activation function"
      ],
      "metadata": {
        "id": "crGaMbxpnCYC"
      },
      "execution_count": 107,
      "outputs": []
    },
    {
      "cell_type": "code",
      "source": [
        "x = padded_reviews\n",
        "y = sentiment"
      ],
      "metadata": {
        "id": "2bBppEC_7JMz"
      },
      "execution_count": 108,
      "outputs": []
    },
    {
      "cell_type": "code",
      "source": [
        "model.compile(\n",
        "    optimizer = 'adam',\n",
        "    loss = 'binary_crossentropy',                # binary_crossentropy bcz the output will be either 0 or 1.\n",
        "    metrics = ['accuracy']\n",
        ")"
      ],
      "metadata": {
        "id": "te_lRQzd7SzM"
      },
      "execution_count": 109,
      "outputs": []
    },
    {
      "cell_type": "code",
      "source": [
        "model.summary()"
      ],
      "metadata": {
        "colab": {
          "base_uri": "https://localhost:8080/"
        },
        "id": "8IDUOsX98Fuf",
        "outputId": "48f91389-da33-4808-8082-5a0a4c5c7b24"
      },
      "execution_count": 110,
      "outputs": [
        {
          "output_type": "stream",
          "name": "stdout",
          "text": [
            "Model: \"sequential_7\"\n",
            "_________________________________________________________________\n",
            " Layer (type)                Output Shape              Param #   \n",
            "=================================================================\n",
            " embedding (Embedding)       (None, 3, 5)              1500      \n",
            "                                                                 \n",
            " flatten_7 (Flatten)         (None, 15)                0         \n",
            "                                                                 \n",
            " dense_7 (Dense)             (None, 1)                 16        \n",
            "                                                                 \n",
            "=================================================================\n",
            "Total params: 1,516\n",
            "Trainable params: 1,516\n",
            "Non-trainable params: 0\n",
            "_________________________________________________________________\n"
          ]
        }
      ]
    },
    {
      "cell_type": "code",
      "source": [
        "model.fit(x,y, epochs = 50, verbose = 0)"
      ],
      "metadata": {
        "colab": {
          "base_uri": "https://localhost:8080/"
        },
        "id": "kdVIxDI08uxj",
        "outputId": "c5c579b7-a559-40c2-dad0-74748729ca16"
      },
      "execution_count": 111,
      "outputs": [
        {
          "output_type": "execute_result",
          "data": {
            "text/plain": [
              "<keras.callbacks.History at 0x7f6d5128ff90>"
            ]
          },
          "metadata": {},
          "execution_count": 111
        }
      ]
    },
    {
      "cell_type": "code",
      "source": [
        "loss, accuracy = model.evaluate(x,y)\n",
        "accuracy"
      ],
      "metadata": {
        "colab": {
          "base_uri": "https://localhost:8080/"
        },
        "id": "EwSH6psx9biH",
        "outputId": "564d4ecd-8574-49be-b7a4-3efb96846af0"
      },
      "execution_count": 112,
      "outputs": [
        {
          "output_type": "stream",
          "name": "stdout",
          "text": [
            "1/1 [==============================] - 0s 105ms/step - loss: 0.6149 - accuracy: 1.0000\n"
          ]
        },
        {
          "output_type": "execute_result",
          "data": {
            "text/plain": [
              "1.0"
            ]
          },
          "metadata": {},
          "execution_count": 112
        }
      ]
    },
    {
      "cell_type": "markdown",
      "source": [
        "**The sentiment classification is a fake problem**\n",
        "**I am more interested in Word Embedding**\n",
        "\n",
        "**So while solving sentiment classification problem, i also got my word embeddings**\n"
      ],
      "metadata": {
        "id": "Q0uTSlOo_X-f"
      }
    },
    {
      "cell_type": "code",
      "source": [
        "weights = model.get_layer('embedding').get_weights()[0]"
      ],
      "metadata": {
        "id": "NXP0is0k_Qep"
      },
      "execution_count": 113,
      "outputs": []
    },
    {
      "cell_type": "code",
      "source": [
        "len(weights)                      # len is 300 bcz our vocabulary size is 300"
      ],
      "metadata": {
        "colab": {
          "base_uri": "https://localhost:8080/"
        },
        "id": "h-9A3sf_BFsw",
        "outputId": "1449f595-0aa3-44ed-db57-81de674d9028"
      },
      "execution_count": 114,
      "outputs": [
        {
          "output_type": "execute_result",
          "data": {
            "text/plain": [
              "300"
            ]
          },
          "metadata": {},
          "execution_count": 114
        }
      ]
    },
    {
      "cell_type": "code",
      "source": [
        "# lets check the word embedding for the word 'nice'\n",
        "\n",
        "weights[182]"
      ],
      "metadata": {
        "colab": {
          "base_uri": "https://localhost:8080/"
        },
        "id": "T62pLt0XBOAN",
        "outputId": "e78b51aa-97c4-444e-883a-5a220f2952b7"
      },
      "execution_count": 115,
      "outputs": [
        {
          "output_type": "execute_result",
          "data": {
            "text/plain": [
              "array([ 0.06393227, -0.04134587, -0.01177133, -0.02179534, -0.07998518],\n",
              "      dtype=float32)"
            ]
          },
          "metadata": {},
          "execution_count": 115
        }
      ]
    },
    {
      "cell_type": "code",
      "source": [
        "# lets check the word embedding for the word 'amazing'\n",
        "\n",
        "weights[203]"
      ],
      "metadata": {
        "colab": {
          "base_uri": "https://localhost:8080/"
        },
        "id": "ibWjf-GWCr7h",
        "outputId": "e8d0b9b7-44d8-4d74-c264-0f7c997ebd52"
      },
      "execution_count": 116,
      "outputs": [
        {
          "output_type": "execute_result",
          "data": {
            "text/plain": [
              "array([ 0.01377268, -0.09530769, -0.09949608, -0.07227844, -0.0379159 ],\n",
              "      dtype=float32)"
            ]
          },
          "metadata": {},
          "execution_count": 116
        }
      ]
    },
    {
      "cell_type": "markdown",
      "source": [
        "**these two vectors 'nice' and 'amazing' are not same**\n",
        "\n",
        "**'nice' and 'amazing' are kind of similar words so we may think that these numbers should be same, but our dataset was too small**\n",
        "\n",
        "**if we run it on a huge dataset may be we will find these vectors to be similar**"
      ],
      "metadata": {
        "id": "0l55xTz7DPAd"
      }
    }
  ]
}
